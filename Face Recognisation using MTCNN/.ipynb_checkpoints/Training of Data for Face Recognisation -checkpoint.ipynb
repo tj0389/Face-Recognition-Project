{
 "cells": [
  {
   "cell_type": "code",
   "execution_count": 4,
   "metadata": {},
   "outputs": [],
   "source": [
    "import cv2\n",
    "import numpy as np\n",
    "from mtcnn.mtcnn import MTCNN"
   ]
  },
  {
   "cell_type": "code",
   "execution_count": 9,
   "metadata": {},
   "outputs": [
    {
     "name": "stdout",
     "output_type": "stream",
     "text": [
      "Enter the name of person : Tanmay\n",
      "WARNING:tensorflow:5 out of the last 14 calls to <function Model.make_predict_function.<locals>.predict_function at 0x000002697617DEE0> triggered tf.function retracing. Tracing is expensive and the excessive number of tracings could be due to (1) creating @tf.function repeatedly in a loop, (2) passing tensors with different shapes, (3) passing Python objects instead of tensors. For (1), please define your @tf.function outside of the loop. For (2), @tf.function has experimental_relax_shapes=True option that relaxes argument shapes that can avoid unnecessary retracing. For (3), please refer to https://www.tensorflow.org/tutorials/customization/performance#python_or_tensor_args and https://www.tensorflow.org/api_docs/python/tf/function for  more details.\n",
      "WARNING:tensorflow:6 out of the last 15 calls to <function Model.make_predict_function.<locals>.predict_function at 0x000002697617DEE0> triggered tf.function retracing. Tracing is expensive and the excessive number of tracings could be due to (1) creating @tf.function repeatedly in a loop, (2) passing tensors with different shapes, (3) passing Python objects instead of tensors. For (1), please define your @tf.function outside of the loop. For (2), @tf.function has experimental_relax_shapes=True option that relaxes argument shapes that can avoid unnecessary retracing. For (3), please refer to https://www.tensorflow.org/tutorials/customization/performance#python_or_tensor_args and https://www.tensorflow.org/api_docs/python/tf/function for  more details.\n",
      "1\n",
      "2\n",
      "3\n",
      "4\n",
      "(4, 100, 100, 3)\n",
      "(4, 30000)\n",
      "Data Succesfullly Save at ./data/Tanmay.npy\n"
     ]
    }
   ],
   "source": [
    "cap=cv2.VideoCapture(0)\n",
    "detector=MTCNN()\n",
    "skip=0\n",
    "face_data=[]\n",
    "dataset_path='./data/'\n",
    "file_name=input(\"Enter the name of person : \")\n",
    "while True:\n",
    "    \n",
    "    ret,frame=cap.read()\n",
    "    \n",
    "    if ret==False:\n",
    "        continue\n",
    "        \n",
    "    faces=detector.detect_faces(frame)\n",
    "    \n",
    "    for face in faces:\n",
    "        x,y,w,h=face['box']\n",
    "        cv2.rectangle(frame,(x,y),(x+w,y+h),(0,255,255),5)\n",
    "        for key, value in face['keypoints'].items():\n",
    "        # create and draw dot\n",
    "            cv2.circle(frame,value,2,(255,0,0),5)\n",
    "    \n",
    "        #extract only useful area\n",
    "        offset=10   #taking 10 pixel in all dir of frame\n",
    "        face_section=frame[y-offset:y+h+offset,x-offset:x+w+offset]\n",
    "        face_section=cv2.resize(frame,(100,100))\n",
    "        #print(face_section.shape)                (100,100,3)\n",
    "    \n",
    "        skip+=1\n",
    "        if (skip%10==0):\n",
    "            face_data.append(face_section)\n",
    "            print(len(face_data))\n",
    "            \n",
    "            cv2.imshow('Face Section',face_section)\n",
    "        \n",
    "    cv2.imshow('Frame',frame)\n",
    "    \n",
    "    #wait for user input -q then we stop the loop\n",
    "    key_pressed=cv2.waitKey(1) & 0xFF     #as we want to return 64 bit and wait will retrun oly 32 bit\n",
    "    if key_pressed == ord('q'):  #ord return ascii value  \n",
    "        break\n",
    "        \n",
    " #convert our face data to numpy array       \n",
    "face_data=np.asarray(face_data)\n",
    "print(face_data.shape)\n",
    "face_data=face_data.reshape((face_data.shape[0]),-1)\n",
    "print(face_data.shape)\n",
    "\n",
    "#save the data into file system\n",
    "np.save(dataset_path+file_name+'.npy',face_data)\n",
    "print('Data Succesfullly Save at '+dataset_path+file_name+'.npy')\n",
    "\n",
    "\n",
    "cap.release()\n",
    "cv2.destroyAllWindows()"
   ]
  },
  {
   "cell_type": "code",
   "execution_count": 8,
   "metadata": {},
   "outputs": [],
   "source": []
  },
  {
   "cell_type": "code",
   "execution_count": null,
   "metadata": {},
   "outputs": [],
   "source": []
  }
 ],
 "metadata": {
  "kernelspec": {
   "display_name": "Python 3",
   "language": "python",
   "name": "python3"
  },
  "language_info": {
   "codemirror_mode": {
    "name": "ipython",
    "version": 3
   },
   "file_extension": ".py",
   "mimetype": "text/x-python",
   "name": "python",
   "nbconvert_exporter": "python",
   "pygments_lexer": "ipython3",
   "version": "3.8.3"
  }
 },
 "nbformat": 4,
 "nbformat_minor": 4
}
