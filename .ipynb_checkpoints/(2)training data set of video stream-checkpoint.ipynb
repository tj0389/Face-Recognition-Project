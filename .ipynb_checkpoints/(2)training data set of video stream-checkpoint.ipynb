{
 "cells": [
  {
   "cell_type": "code",
   "execution_count": 1,
   "metadata": {},
   "outputs": [],
   "source": [
    "import cv2\n",
    "import numpy as np"
   ]
  },
  {
   "cell_type": "code",
   "execution_count": 2,
   "metadata": {},
   "outputs": [],
   "source": [
    "cap=cv2.VideoCapture(0)"
   ]
  },
  {
   "cell_type": "code",
   "execution_count": 3,
   "metadata": {},
   "outputs": [],
   "source": [
    "face_cascade=cv2.CascadeClassifier('data/haarcascade_frontalface_alt.xml')   #face recognise"
   ]
  },
  {
   "cell_type": "code",
   "execution_count": 4,
   "metadata": {},
   "outputs": [
    {
     "name": "stdout",
     "output_type": "stream",
     "text": [
      "Enter the name of person : Tanmay\n",
      "1\n",
      "2\n",
      "3\n",
      "4\n",
      "5\n",
      "6\n",
      "7\n",
      "8\n",
      "9\n",
      "10\n",
      "11\n",
      "12\n",
      "13\n",
      "14\n",
      "15\n",
      "16\n",
      "17\n",
      "18\n",
      "19\n",
      "20\n",
      "21\n",
      "22\n",
      "23\n",
      "24\n",
      "25\n",
      "26\n",
      "27\n",
      "(27, 100, 100, 3)\n",
      "(27, 30000)\n",
      "Data Succesfullly Save at ./data/Tanmay.npy\n"
     ]
    }
   ],
   "source": [
    "skip=0\n",
    "face_data=[]\n",
    "dataset_path='./data/'\n",
    "file_name=input(\"Enter the name of person : \")\n",
    "while True:\n",
    "    \n",
    "    ret,frame=cap.read()\n",
    "    \n",
    "    if ret==False:\n",
    "        continue\n",
    "        \n",
    "    \n",
    "    #cv2.imshow(\"Gray Frame\",grey_frame)\n",
    "    \n",
    "    faces=face_cascade.detectMultiScale(frame,1.3,5)\n",
    "    faces=sorted(faces,key=lambda f:f[2]*f[3])\n",
    "    #print(faces)\n",
    "    \n",
    "    for face in faces[-1:]:\n",
    "        x,y,w,h=face\n",
    "        cv2.rectangle(frame,(x,y),(x+w,y+h),(0,255,255),2)\n",
    "    \n",
    "    \n",
    "        #extract only useful area\n",
    "        offset=10   #taking 10 pixel in all dir of frame\n",
    "        face_section=frame[y-offset:y+h+offset,x-offset:x+w+offset]\n",
    "        face_section=cv2.resize(frame,(100,100))\n",
    "        #print(face_section.shape)                (100,100,3)\n",
    "    \n",
    "        skip+=1\n",
    "        if (skip%10==0):\n",
    "            face_data.append(face_section)\n",
    "            print(len(face_data))\n",
    "            \n",
    "            cv2.imshow('Face Section',face_section)\n",
    "        \n",
    "    cv2.imshow('Frame',frame)\n",
    "    \n",
    "        \n",
    "    \n",
    "    #wait for user input -q then we stop the loop\n",
    "    key_pressed=cv2.waitKey(1) & 0xFF     #as we want to return 64 bit and wait will retrun oly 32 bit\n",
    "    if key_pressed == ord('q'):  #ord return ascii value  \n",
    "        break\n",
    "        \n",
    " #convert our face data to numpy array       \n",
    "face_data=np.asarray(face_data)\n",
    "print(face_data.shape)\n",
    "face_data=face_data.reshape((face_data.shape[0]),-1)\n",
    "print(face_data.shape)\n",
    "\n",
    "#save the data into file system\n",
    "np.save(dataset_path+file_name+'.npy',face_data)\n",
    "print('Data Succesfullly Save at '+dataset_path+file_name+'.npy')\n",
    "\n",
    "\n",
    "cap.release()\n",
    "cv2.destroyAllWindows()"
   ]
  },
  {
   "cell_type": "code",
   "execution_count": null,
   "metadata": {},
   "outputs": [],
   "source": []
  },
  {
   "cell_type": "code",
   "execution_count": null,
   "metadata": {},
   "outputs": [],
   "source": []
  }
 ],
 "metadata": {
  "kernelspec": {
   "display_name": "Python 3",
   "language": "python",
   "name": "python3"
  },
  "language_info": {
   "codemirror_mode": {
    "name": "ipython",
    "version": 3
   },
   "file_extension": ".py",
   "mimetype": "text/x-python",
   "name": "python",
   "nbconvert_exporter": "python",
   "pygments_lexer": "ipython3",
   "version": "3.8.3"
  }
 },
 "nbformat": 4,
 "nbformat_minor": 2
}
