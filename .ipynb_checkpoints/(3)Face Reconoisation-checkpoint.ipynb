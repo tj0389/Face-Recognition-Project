{
 "cells": [
  {
   "cell_type": "code",
   "execution_count": 1,
   "metadata": {},
   "outputs": [],
   "source": [
    "import numpy as np\n",
    "import cv2\n",
    "import os"
   ]
  },
  {
   "cell_type": "code",
   "execution_count": 2,
   "metadata": {},
   "outputs": [],
   "source": [
    "def dis(x1,x2):\n",
    "    return np.sqrt(sum((x1-x2)**2))\n",
    "\n",
    "def knn(train,test,k=5):\n",
    "    vals=[]\n",
    "    m=train.shape[0]\n",
    "    #compute dis from test point\n",
    "    for i in range(m):\n",
    "        ix=train[i,:-1]\n",
    "        iy=train[i,-1]\n",
    "        d=dis(test,ix)\n",
    "        vals.append([d,iy])\n",
    "    #sort based on distance and get top k\n",
    "    vals=sorted(vals)\n",
    "    vals=vals[:k]\n",
    "    #taking only labels\n",
    "    vals=np.array(vals)[:,-1]\n",
    "    \n",
    "    #get frequency of each label\n",
    "    new_vals=np.unique(vals,return_counts=True)\n",
    "    \n",
    "    #find max freq ad its label\n",
    "    index=new_vals[1].argmax()\n",
    "    pred=new_vals[0][index]\n",
    "    \n",
    "    return pred"
   ]
  },
  {
   "cell_type": "code",
   "execution_count": 3,
   "metadata": {},
   "outputs": [
    {
     "name": "stdout",
     "output_type": "stream",
     "text": [
      "LoadedTanmay.npy\n"
     ]
    }
   ],
   "source": [
    "cap=cv2.VideoCapture(0)\n",
    "face_cascade=cv2.CascadeClassifier('data/haarcascade_frontalface_alt.xml')   #face recognise\n",
    "skip=0\n",
    "face_data=[]\n",
    "label =[]\n",
    "dataset_path='./data/'\n",
    "\n",
    "class_id=0   #labels for the given file\n",
    "names={}  #mapping bw id and name\n",
    "\n",
    "#data prepare\n",
    "for fx in os.listdir(dataset_path):\n",
    "    if fx.endswith('.npy'):\n",
    "        \n",
    "        names[class_id]=fx[:-4]    #create a map bw class_id and name   don't take last four char i.e. .npy\n",
    "        print(\"Loaded\"+fx)\n",
    "        data_item=np.load(dataset_path+fx)\n",
    "        \n",
    "        face_data.append(data_item)\n",
    "        \n",
    "        target=class_id*np.ones((data_item.shape[0]),)\n",
    "        #print(data_item.shape)\n",
    "        #print(target.shape)\n",
    "        class_id+=1;\n",
    "        label.append(target)\n",
    "        \n",
    "face_dataset=np.concatenate(face_data,axis=0)\n",
    "face_label=np.concatenate(label,axis=0).reshape((-1,1))\n",
    "\n",
    "trainset=np.concatenate((face_dataset,face_label),axis=1)\n",
    "\n",
    "#print(face_dataset.shape)\n",
    "#print(face_label.shape)\n",
    "#print(trainset.shape)\n",
    "\n",
    "        \n",
    "    \n",
    "#testing\n",
    "while True:\n",
    "    \n",
    "    ret,frame=cap.read()\n",
    "    \n",
    "    if ret==False:\n",
    "        continue\n",
    "        \n",
    "    \n",
    "    #cv2.imshow(\"Gray Frame\",grey_frame)\n",
    "    \n",
    "    faces=face_cascade.detectMultiScale(frame,1.3,5)\n",
    "\n",
    "    for face in faces:\n",
    "        x,y,w,h=face\n",
    "        cv2.rectangle(frame,(x,y),(x+w,y+h),(0,255,255),5)\n",
    "    \n",
    "        #extract only useful area\n",
    "        offset=10   #taking 10 pixel in all dir of frame\n",
    "        face_section=frame[y-offset:y+h+offset,x-offset:x+w+offset]\n",
    "        face_section=cv2.resize(frame,(100,100))\n",
    "        \n",
    "        #predict label\n",
    "        out=knn(trainset,face_section.flatten())\n",
    "        \n",
    "        #display on screen name and rectangle around it\n",
    "        pred_name=names[int(out)]\n",
    "        cv2.putText(frame,pred_name,(x,y-10),cv2.FONT_HERSHEY_SIMPLEX,1,(255,0,0),2,cv2.LINE_AA)\n",
    "        cv2.rectangle(frame,(x,y),(x+w,y+h),(0,255,255),2)\n",
    "        \n",
    "    cv2.imshow(\"FRAME\",frame)\n",
    "\n",
    "    key_pressed=cv2.waitKey(1) & 0xFF     #as we want to return 64 bit and wait will retrun oly 32 b\n",
    "    if key_pressed == ord('q'):  #ord return ascii value  \n",
    "        break\n",
    "        \n",
    "cap.release()\n",
    "cv2.destroyAllWindows()\n"
   ]
  },
  {
   "cell_type": "code",
   "execution_count": null,
   "metadata": {},
   "outputs": [],
   "source": []
  },
  {
   "cell_type": "code",
   "execution_count": null,
   "metadata": {},
   "outputs": [],
   "source": []
  }
 ],
 "metadata": {
  "kernelspec": {
   "display_name": "Python 3",
   "language": "python",
   "name": "python3"
  },
  "language_info": {
   "codemirror_mode": {
    "name": "ipython",
    "version": 3
   },
   "file_extension": ".py",
   "mimetype": "text/x-python",
   "name": "python",
   "nbconvert_exporter": "python",
   "pygments_lexer": "ipython3",
   "version": "3.8.3"
  }
 },
 "nbformat": 4,
 "nbformat_minor": 2
}
